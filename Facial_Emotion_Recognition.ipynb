{
  "nbformat": 4,
  "nbformat_minor": 0,
  "metadata": {
    "colab": {
      "name": "Facial_Emotion_Recognition.ipynb",
      "provenance": [],
      "authorship_tag": "ABX9TyNJWHY+n4oaPtZ3QebtAJef",
      "include_colab_link": true
    },
    "kernelspec": {
      "name": "python3",
      "display_name": "Python 3"
    },
    "accelerator": "GPU"
  },
  "cells": [
    {
      "cell_type": "markdown",
      "metadata": {
        "id": "view-in-github",
        "colab_type": "text"
      },
      "source": [
        "<a href=\"https://colab.research.google.com/github/SohilK03/Machine_Learning_Projects/blob/main/Facial_Emotion_Recognition.ipynb\" target=\"_parent\"><img src=\"https://colab.research.google.com/assets/colab-badge.svg\" alt=\"Open In Colab\"/></a>"
      ]
    },
    {
      "cell_type": "code",
      "metadata": {
        "colab": {
          "base_uri": "https://localhost:8080/"
        },
        "id": "ScZ6cA-IP3yV",
        "outputId": "fe05510f-b525-443f-f55f-4ad4ac8c0b5b"
      },
      "source": [
        "! git clone https://github.com/muxspace/facial_expressions.git"
      ],
      "execution_count": 1,
      "outputs": [
        {
          "output_type": "stream",
          "text": [
            "Cloning into 'facial_expressions'...\n",
            "remote: Enumerating objects: 14214, done.\u001b[K\n",
            "remote: Total 14214 (delta 0), reused 0 (delta 0), pack-reused 14214\u001b[K\n",
            "Receiving objects: 100% (14214/14214), 239.65 MiB | 43.70 MiB/s, done.\n",
            "Resolving deltas: 100% (223/223), done.\n",
            "Checking out files: 100% (13996/13996), done.\n"
          ],
          "name": "stdout"
        }
      ]
    },
    {
      "cell_type": "code",
      "metadata": {
        "id": "u3OTtdPvQYtn"
      },
      "source": [
        "import csv\r\n",
        "di={}\r\n",
        "with open (\"/content/facial_expressions/data/legend.csv\") as f:\r\n",
        "  reader=csv.reader(f)\r\n",
        "  next(reader)\r\n",
        "  for row in reader:\r\n",
        "    if row[2].lower() in di:\r\n",
        "      di[row[2].lower()].append(row[1])\r\n",
        "    else:\r\n",
        "      di[row[2].lower()]=[row[1]]\r\n"
      ],
      "execution_count": 11,
      "outputs": []
    },
    {
      "cell_type": "code",
      "metadata": {
        "colab": {
          "base_uri": "https://localhost:8080/"
        },
        "id": "6cjKtW5DRZPO",
        "outputId": "61368657-cb9a-47ae-a5e1-53a2e39fd233"
      },
      "source": [
        "emotion_list=list(di.keys())\r\n",
        "emotion_list"
      ],
      "execution_count": 12,
      "outputs": [
        {
          "output_type": "execute_result",
          "data": {
            "text/plain": [
              "['anger',\n",
              " 'surprise',\n",
              " 'disgust',\n",
              " 'fear',\n",
              " 'neutral',\n",
              " 'happiness',\n",
              " 'sadness',\n",
              " 'contempt']"
            ]
          },
          "metadata": {
            "tags": []
          },
          "execution_count": 12
        }
      ]
    },
    {
      "cell_type": "code",
      "metadata": {
        "id": "v2HhLLtHXM2t"
      },
      "source": [
        "import os\r\n",
        "os.mkdir('master_data')\r\n",
        "os.mkdir(\"master_data/training\")\r\n",
        "os.mkdir(\"master_data/testing\")"
      ],
      "execution_count": 13,
      "outputs": []
    },
    {
      "cell_type": "code",
      "metadata": {
        "id": "36t6uay9XraJ"
      },
      "source": [
        "for emotion in emotion_list:\r\n",
        "  os.mkdir(os.path.join('master_data/training/',emotion))\r\n",
        "  os.mkdir(os.path.join('master_data/testing/',emotion))"
      ],
      "execution_count": 15,
      "outputs": []
    },
    {
      "cell_type": "code",
      "metadata": {
        "id": "_S0KhWwzX5vy"
      },
      "source": [
        "from shutil import copyfile\r\n",
        "split_size=0.8\r\n",
        "for emotion,images in di.items():\r\n",
        "  train_size=int(split_size*len(images))\r\n",
        "  train_data=images[:train_size]\r\n",
        "  test_data=images[train_size:]\r\n",
        "  for image in train_data:\r\n",
        "    source=os.path.join(\"/content/facial_expressions/images/\",image)\r\n",
        "    dest=os.path.join(\"/content/master_data/training/\",emotion,image)\r\n",
        "    copyfile(source,dest)\r\n",
        "  for image in test_data:\r\n",
        "    source=os.path.join(\"/content/facial_expressions/images/\",image)\r\n",
        "    dest=os.path.join(\"/content/master_data/testing/\",emotion,image)\r\n",
        "    copyfile(source,dest)\r\n"
      ],
      "execution_count": 22,
      "outputs": []
    },
    {
      "cell_type": "code",
      "metadata": {
        "id": "qqpj31m2aWda"
      },
      "source": [
        "import tensorflow as tf\r\n",
        "from tensorflow.keras.preprocessing.image import ImageDataGenerator\r\n",
        "from tensorflow.keras.optimizers import Adam\r\n",
        "from tensorflow.keras.callbacks import EarlyStopping\r\n",
        "from tensorflow.keras.layers import Conv2D,MaxPooling2D,Dense,Flatten"
      ],
      "execution_count": 24,
      "outputs": []
    },
    {
      "cell_type": "code",
      "metadata": {
        "id": "MqeMk_35crNl"
      },
      "source": [
        "model=tf.keras.models.Sequential(\r\n",
        "    [Conv2D(16,(3,3),activation=\"relu\",input_shape=(100,100,3)),\r\n",
        "     MaxPooling2D(2,2),\r\n",
        "     Conv2D(32,(3,3),activation=\"relu\"),\r\n",
        "     MaxPooling2D(2,2),\r\n",
        "     Conv2D(64,(3,3),activation=\"relu\"),\r\n",
        "     MaxPooling2D(2,2),\r\n",
        "     Flatten(),\r\n",
        "     Dense(1024,activation=\"relu\"),\r\n",
        "     Dense(8,activation=\"softmax\")]\r\n",
        "     )"
      ],
      "execution_count": 35,
      "outputs": []
    },
    {
      "cell_type": "code",
      "metadata": {
        "colab": {
          "base_uri": "https://localhost:8080/"
        },
        "id": "ZxR6wAEedx-_",
        "outputId": "8b55fff1-0062-43a0-8a21-5e360d20b400"
      },
      "source": [
        "model.compile(optimizer=Adam(lr=0.01),loss=\"categorical_crossentropy\",metrics=['acc'])\r\n",
        "model.summary()"
      ],
      "execution_count": 36,
      "outputs": [
        {
          "output_type": "stream",
          "text": [
            "Model: \"sequential_1\"\n",
            "_________________________________________________________________\n",
            "Layer (type)                 Output Shape              Param #   \n",
            "=================================================================\n",
            "conv2d_3 (Conv2D)            (None, 98, 98, 16)        448       \n",
            "_________________________________________________________________\n",
            "max_pooling2d_3 (MaxPooling2 (None, 49, 49, 16)        0         \n",
            "_________________________________________________________________\n",
            "conv2d_4 (Conv2D)            (None, 47, 47, 32)        4640      \n",
            "_________________________________________________________________\n",
            "max_pooling2d_4 (MaxPooling2 (None, 23, 23, 32)        0         \n",
            "_________________________________________________________________\n",
            "conv2d_5 (Conv2D)            (None, 21, 21, 64)        18496     \n",
            "_________________________________________________________________\n",
            "max_pooling2d_5 (MaxPooling2 (None, 10, 10, 64)        0         \n",
            "_________________________________________________________________\n",
            "flatten_1 (Flatten)          (None, 6400)              0         \n",
            "_________________________________________________________________\n",
            "dense_2 (Dense)              (None, 1024)              6554624   \n",
            "_________________________________________________________________\n",
            "dense_3 (Dense)              (None, 8)                 8200      \n",
            "=================================================================\n",
            "Total params: 6,586,408\n",
            "Trainable params: 6,586,408\n",
            "Non-trainable params: 0\n",
            "_________________________________________________________________\n"
          ],
          "name": "stdout"
        }
      ]
    },
    {
      "cell_type": "code",
      "metadata": {
        "colab": {
          "base_uri": "https://localhost:8080/"
        },
        "id": "MSH6ur5yeNDG",
        "outputId": "2457ee63-9c72-428e-ba05-5ce0f47894fa"
      },
      "source": [
        "train_dir=\"/content/master_data/training\"\r\n",
        "test_dir=\"/content/master_data/testing\"\r\n",
        "\r\n",
        "train_datagen=ImageDataGenerator(rescale=1.0/255)\r\n",
        "train_generator=train_datagen.flow_from_directory(\r\n",
        "    train_dir,target_size=(100,100),class_mode='categorical',batch_size=128\r\n",
        ")\r\n",
        "test_datagen=ImageDataGenerator(rescale=1.0/255)\r\n",
        "test_generator=test_datagen.flow_from_directory(\r\n",
        "    test_dir,target_size=(100,100),class_mode='categorical',batch_size=128\r\n",
        ")\r\n"
      ],
      "execution_count": 29,
      "outputs": [
        {
          "output_type": "stream",
          "text": [
            "Found 10941 images belonging to 8 classes.\n",
            "Found 2742 images belonging to 8 classes.\n"
          ],
          "name": "stdout"
        }
      ]
    },
    {
      "cell_type": "code",
      "metadata": {
        "id": "P_fI2EKMf3L7"
      },
      "source": [
        "es=EarlyStopping(monitor='val_acc',patience=2,min_delta=0.01)"
      ],
      "execution_count": 30,
      "outputs": []
    },
    {
      "cell_type": "code",
      "metadata": {
        "colab": {
          "base_uri": "https://localhost:8080/"
        },
        "id": "RU-1q7rGga0O",
        "outputId": "c8596bdc-26a5-4c05-c97c-8c49c5338a5d"
      },
      "source": [
        "model.fit_generator(train_generator,epochs=10,verbose=1,validation_data=test_generator,callbacks=[es])"
      ],
      "execution_count": 37,
      "outputs": [
        {
          "output_type": "stream",
          "text": [
            "Epoch 1/10\n",
            "86/86 [==============================] - 15s 174ms/step - loss: 1.6081 - acc: 0.4825 - val_loss: 1.0428 - val_acc: 0.5193\n",
            "Epoch 2/10\n",
            "86/86 [==============================] - 15s 170ms/step - loss: 1.0072 - acc: 0.5439 - val_loss: 0.9905 - val_acc: 0.5941\n",
            "Epoch 3/10\n",
            "86/86 [==============================] - 15s 171ms/step - loss: 0.8693 - acc: 0.6823 - val_loss: 0.9173 - val_acc: 0.6641\n",
            "Epoch 4/10\n",
            "86/86 [==============================] - 15s 171ms/step - loss: 0.7602 - acc: 0.7324 - val_loss: 0.9004 - val_acc: 0.6623\n",
            "Epoch 5/10\n",
            "86/86 [==============================] - 15s 173ms/step - loss: 0.7080 - acc: 0.7506 - val_loss: 1.1517 - val_acc: 0.5846\n"
          ],
          "name": "stdout"
        },
        {
          "output_type": "execute_result",
          "data": {
            "text/plain": [
              "<tensorflow.python.keras.callbacks.History at 0x7f9ed75e28d0>"
            ]
          },
          "metadata": {
            "tags": []
          },
          "execution_count": 37
        }
      ]
    },
    {
      "cell_type": "code",
      "metadata": {
        "id": "VZOh4yqCgxSg"
      },
      "source": [
        ""
      ],
      "execution_count": null,
      "outputs": []
    }
  ]
}